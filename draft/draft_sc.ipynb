{
 "cells": [
  {
   "cell_type": "code",
   "execution_count": 1,
   "id": "6e9faf41",
   "metadata": {},
   "outputs": [
    {
     "ename": "SyntaxError",
     "evalue": "'[' was never closed (3907297162.py, line 4)",
     "output_type": "error",
     "traceback": [
      "\u001b[0;36m  Input \u001b[0;32mIn [1]\u001b[0;36m\u001b[0m\n\u001b[0;31m    sc.pl.filter_genes_dispersion(result, log=False, show=True, save=None)[s\u001b[0m\n\u001b[0m                                                                          ^\u001b[0m\n\u001b[0;31mSyntaxError\u001b[0m\u001b[0;31m:\u001b[0m '[' was never closed\n"
     ]
    }
   ],
   "source": [
    "# Show those genes that yield the highest fraction of counts in each single cell, across all cells.\n",
    "sc.pl.highest_expr_genes(adata, n_top=20, )\n",
    "# Plot dispersions versus means for genes.save the figure as .pdf, .png, .svg\n",
    "sc.pl.filter_genes_dispersion(result, log=False, show=True, save=None)[s\n",
    "# Plot dispersions or normalized variance versus means for genes.\n",
    "sc.pl.highly_variable_genes(adata_or_result, *, log=False, show=None, save=True, highly_variable_genes=True) \n",
    "# Plot histogram of doublet scores for observed transcriptomes and simulated doublets.                                                                       \n",
    "# The histogram for simulated doublets is useful for determining the correct doublet score threshold.                                                                       \n",
    "# Scrublet must have been run previously with the input object.                                                                     \n",
    "sc.pl.scrublet_score_distribution(adata, *, scale_hist_obs='log', scale_hist_sim='linear', figsize=(8, 3), return_fig=False, show=True, save=None)                                                                       \n",
    "                                            "
   ]
  },
  {
   "cell_type": "code",
   "execution_count": null,
   "id": "832f554c",
   "metadata": {},
   "outputs": [],
   "source": [
    "# calculate common quality control (QC) metrics\n",
    "sc.pp.calculate_qc_metrics(adata, qc_vars=['mt', \"ribo\", \"hb\"], percent_top=[20], log1p=True, inplace=True)\n",
    "# \n",
    "adata\n",
    "AnnData object with n_obs × n_vars = 16934 × 36601\n",
    "    obs: 'n_genes_by_counts', 'log1p_n_genes_by_counts', 'total_counts', 'log1p_total_counts', 'pct_counts_in_top_20_genes', 'total_counts_mt', 'log1p_total_counts_mt', 'pct_counts_mt', 'total_counts_ribo', 'log1p_total_counts_ribo', 'pct_counts_ribo', 'total_counts_hb', 'log1p_total_counts_hb', 'pct_counts_hb'\n",
    "    var: 'gene_ids', 'feature_types', 'genome', 'mt', 'ribo', 'hb', 'n_cells_by_counts', 'mean_counts', 'log1p_mean_counts', 'pct_dropout_by_counts', 'total_counts', 'log1p_total_counts'\n",
    "# different plots, plot showing outliers \n",
    "# def is-outlier sc best practices\n",
    "        "
   ]
  },
  {
   "cell_type": "code",
   "execution_count": null,
   "id": "730f0236",
   "metadata": {},
   "outputs": [],
   "source": [
    "# Doublet Detection\n",
    "sc.external.pp.scrublet(adata, batch_key=\"sample\")\n"
   ]
  },
  {
   "cell_type": "code",
   "execution_count": null,
   "id": "708ea814",
   "metadata": {},
   "outputs": [],
   "source": [
    "# Normalization\n",
    "# Normalizing to median total counts\n",
    "sc.pp.normalize_total(adata)\n",
    "# Logarithmize the data:\n",
    "sc.pp.log1p(adata)\n",
    "\n",
    "# Plot counts distribution before and after Normalization\n",
    "#We can now inspect the distrubution of the raw counts which we already calculated during quality control. This step can be neglected during a standard single-cell analysis pipeline, but might be helpful to understand the different normalization concepts.\n",
    "sns.histplot(adata.obs[\"total_counts\"], bins=100, kde=False)"
   ]
  },
  {
   "cell_type": "code",
   "execution_count": null,
   "id": "bd3505f1",
   "metadata": {},
   "outputs": [],
   "source": [
    "# Feature selection : Identify highly-variable genes.\n",
    "sc.pp.highly_variable_genes(adata, min_mean=0.0125, max_mean=3, min_disp=0.5)\n",
    "sc.pl.highly_variable_genes(adata)\n",
    "# ou sc best practices\n",
    "ax = sns.scatterplot(\n",
    "    data=adata.var, x=\"means\", y=\"dispersions\", hue=\"highly_deviant\", s=5\n",
    ")\n",
    "ax.set_xlim(None, 1.5)\n",
    "ax.set_ylim(None, 3)\n",
    "plt.show()\n"
   ]
  },
  {
   "cell_type": "code",
   "execution_count": null,
   "id": "220b6916",
   "metadata": {},
   "outputs": [],
   "source": [
    "# Dimensionality Reduction : 9.4 Inspecting quality control metrics in sc Best Practices\n",
    "sc.pl.umap(\n",
    "    adata,\n",
    "    color=[\"total_counts\", \"pct_counts_mt\", \"scDblFinder_score\", \"scDblFinder_class\"],\n",
    ")"
   ]
  }
 ],
 "metadata": {
  "kernelspec": {
   "display_name": "Python 3 (ipykernel)",
   "language": "python",
   "name": "python3"
  },
  "language_info": {
   "codemirror_mode": {
    "name": "ipython",
    "version": 3
   },
   "file_extension": ".py",
   "mimetype": "text/x-python",
   "name": "python",
   "nbconvert_exporter": "python",
   "pygments_lexer": "ipython3",
   "version": "3.10.11"
  }
 },
 "nbformat": 4,
 "nbformat_minor": 5
}
